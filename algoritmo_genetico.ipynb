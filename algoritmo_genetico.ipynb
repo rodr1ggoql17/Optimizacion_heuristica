{
  "nbformat": 4,
  "nbformat_minor": 0,
  "metadata": {
    "colab": {
      "provenance": [],
      "authorship_tag": "ABX9TyPqraa7n+4AYnsMgQCjGbn8",
      "include_colab_link": true
    },
    "kernelspec": {
      "name": "python3",
      "display_name": "Python 3"
    },
    "language_info": {
      "name": "python"
    }
  },
  "cells": [
    {
      "cell_type": "markdown",
      "metadata": {
        "id": "view-in-github",
        "colab_type": "text"
      },
      "source": [
        "<a href=\"https://colab.research.google.com/github/rodr1ggoql17/Optimizacion_heuristica/blob/main/algoritmo_genetico.ipynb\" target=\"_parent\"><img src=\"https://colab.research.google.com/assets/colab-badge.svg\" alt=\"Open In Colab\"/></a>"
      ]
    },
    {
      "cell_type": "code",
      "source": [
        "!pip install geneticalgorithm\n",
        "from geneticalgorithm import geneticalgorithm as ga\n",
        "import numpy as np\n",
        "import matplotlib.pyplot as plt"
      ],
      "metadata": {
        "colab": {
          "base_uri": "https://localhost:8080/"
        },
        "id": "EN-KPAoL_ckG",
        "outputId": "082d9cbb-99aa-4efc-f441-0e0087e0205f"
      },
      "execution_count": null,
      "outputs": [
        {
          "output_type": "stream",
          "name": "stdout",
          "text": [
            "Looking in indexes: https://pypi.org/simple, https://us-python.pkg.dev/colab-wheels/public/simple/\n",
            "Collecting geneticalgorithm\n",
            "  Downloading geneticalgorithm-1.0.2-py3-none-any.whl (16 kB)\n",
            "Requirement already satisfied: numpy in /usr/local/lib/python3.7/dist-packages (from geneticalgorithm) (1.21.6)\n",
            "Requirement already satisfied: func-timeout in /usr/local/lib/python3.7/dist-packages (from geneticalgorithm) (4.3.5)\n",
            "Installing collected packages: geneticalgorithm\n",
            "Successfully installed geneticalgorithm-1.0.2\n"
          ]
        }
      ]
    },
    {
      "cell_type": "code",
      "source": [
        "def f(x):\n",
        "  return np.sum(x)\n",
        "\n",
        "\n",
        "varbound = np.array([[0,10]]*3)\n",
        "\n",
        "model= ga(function=f,dimension=3,variable_type='real',variable_boundaries=varbound)\n",
        "model.run()"
      ],
      "metadata": {
        "colab": {
          "base_uri": "https://localhost:8080/",
          "height": 382
        },
        "id": "0h7UEZBtDN7t",
        "outputId": "c4e09494-c690-4088-f04b-5e65f642e92c"
      },
      "execution_count": null,
      "outputs": [
        {
          "output_type": "stream",
          "name": "stdout",
          "text": [
            " The best solution found:\n",
            " [0. 0. 0. 0. 0.]\n",
            "\n",
            " Objective function:\n",
            " 0.0\n"
          ]
        },
        {
          "output_type": "display_data",
          "data": {
            "text/plain": [
              "<Figure size 432x288 with 1 Axes>"
            ],
            "image/png": "[encoded data removed]"
          },
          "metadata": {
            "needs_background": "light"
          }
        }
      ]
    },
    {
      "cell_type": "code",
      "source": [
        "def f2(x):\n",
        "  vd=x[0]*(2**4) + x[1]*(2**3) + x[2]*(2**2) + x[3]*(2**1) + x[4]*(2**0)\n",
        "  return 1/vd**2\n",
        "\n",
        "varbound = np.array([[0,1]]*5)\n",
        "\n",
        "model = ga(function = f2,dimension = 5,variable_type='int',variable_boundaries=varbound)\n",
        "model.run( )"
      ],
      "metadata": {
        "colab": {
          "base_uri": "https://localhost:8080/",
          "height": 471
        },
        "id": "T5ZpPTYjGekM",
        "outputId": "d22fa50e-32e2-4ca2-86c4-ec0eaa155d0e"
      },
      "execution_count": null,
      "outputs": [
        {
          "output_type": "stream",
          "name": "stdout",
          "text": [
            "||||||||||||||||__________________________________ 32.0% GA is running..."
          ]
        },
        {
          "output_type": "stream",
          "name": "stderr",
          "text": [
            "/usr/local/lib/python3.7/dist-packages/ipykernel_launcher.py:3: RuntimeWarning: divide by zero encountered in double_scalars\n",
            "  This is separate from the ipykernel package so we can avoid doing imports until\n",
            "/usr/local/lib/python3.7/dist-packages/geneticalgorithm/geneticalgorithm.py:353: RuntimeWarning: invalid value encountered in subtract\n",
            "  normobj=maxnorm-normobj+1\n"
          ]
        },
        {
          "output_type": "stream",
          "name": "stdout",
          "text": [
            " The best solution found:\n",
            " [1. 1. 1. 1. 1.]\n",
            "\n",
            " Objective function:\n",
            " 0.001040582726326743\n"
          ]
        },
        {
          "output_type": "display_data",
          "data": {
            "text/plain": [
              "<Figure size 432x288 with 1 Axes>"
            ],
            "image/png": "[encoded data removed]"
          },
          "metadata": {
            "needs_background": "light"
          }
        }
      ]
    },
    {
      "cell_type": "code",
      "source": [
        "def f3(X):\n",
        "  x = X[0]\n",
        "  y = X[1]\n",
        "  if x>4: \n",
        "    return 10000\n",
        "  if 2*y < 12:\n",
        "    return 10000\n",
        "  if (3*x + 2*y) > 18:\n",
        "    return 10000\n",
        "  return 1/(3*x + 2*y)\n",
        "\n",
        "varbound = np.array([[0,20]]*2)\n",
        "\n",
        "model = ga(function = f3, dimension = 2, variable_type='real',variable_boundaries=varbound)\n",
        "model.run()"
      ],
      "metadata": {
        "colab": {
          "base_uri": "https://localhost:8080/",
          "height": 382
        },
        "id": "bTl9K4n9RXl2",
        "outputId": "9980939d-5ce8-46e1-85fa-b507ecaafbfb"
      },
      "execution_count": null,
      "outputs": [
        {
          "output_type": "stream",
          "name": "stdout",
          "text": [
            " The best solution found:\n",
            " [1.39705621 6.90373804]\n",
            "\n",
            " Objective function:\n",
            " 0.055559738841655874\n"
          ]
        },
        {
          "output_type": "display_data",
          "data": {
            "text/plain": [
              "<Figure size 432x288 with 1 Axes>"
            ],
            "image/png": "[encoded data removed]"
          },
          "metadata": {
            "needs_background": "light"
          }
        }
      ]
    }
  ]
}