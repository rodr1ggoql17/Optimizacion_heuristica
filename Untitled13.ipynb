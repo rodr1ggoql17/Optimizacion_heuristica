{
  "nbformat": 4,
  "nbformat_minor": 0,
  "metadata": {
    "colab": {
      "provenance": [],
      "authorship_tag": "ABX9TyMSr8EHQGH5VdRPMkQs/iyD",
      "include_colab_link": true
    },
    "kernelspec": {
      "name": "python3",
      "display_name": "Python 3"
    },
    "language_info": {
      "name": "python"
    }
  },
  "cells": [
    {
      "cell_type": "markdown",
      "metadata": {
        "id": "view-in-github",
        "colab_type": "text"
      },
      "source": [
        "<a href=\"https://colab.research.google.com/github/rodr1ggoql17/Optimizacion_heuristica/blob/main/Untitled13.ipynb\" target=\"_parent\"><img src=\"https://colab.research.google.com/assets/colab-badge.svg\" alt=\"Open In Colab\"/></a>"
      ]
    },
    {
      "cell_type": "code",
      "execution_count": 1,
      "metadata": {
        "colab": {
          "base_uri": "https://localhost:8080/"
        },
        "id": "C97GEK4X2NOn",
        "outputId": "d6c5b56e-8fe2-4d99-a4e8-7ead2c1629f4"
      },
      "outputs": [
        {
          "name": "stdout",
          "output_type": "stream",
          "text": [
            "len:5\n",
            "value:1\n",
            "value:True\n",
            "value:rodrigo\n",
            "value:45\n",
            "value:5.67\n"
          ]
        }
      ],
      "source": [
        "arr = []\n",
        "len_arr = int(input('len:'))\n",
        "i=0\n",
        "while i<len_arr:\n",
        "  value = input('value:')\n",
        "  arr.append(value)\n",
        "  i=i+1"
      ]
    },
    {
      "cell_type": "code",
      "source": [
        "arr"
      ],
      "metadata": {
        "colab": {
          "base_uri": "https://localhost:8080/"
        },
        "id": "1IAx-WeX4mLw",
        "outputId": "10e49c79-35c4-4dbf-df0e-0f995ea4b3e9"
      },
      "execution_count": 2,
      "outputs": [
        {
          "output_type": "execute_result",
          "data": {
            "text/plain": [
              "['1', 'True', 'rodrigo', '45', '5.67']"
            ]
          },
          "metadata": {},
          "execution_count": 2
        }
      ]
    }
  ]
}