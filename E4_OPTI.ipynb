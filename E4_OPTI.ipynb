{
  "nbformat": 4,
  "nbformat_minor": 0,
  "metadata": {
    "colab": {
      "provenance": [],
      "authorship_tag": "ABX9TyMCQ8XWLiunqIzU1g8aBM5+",
      "include_colab_link": true
    },
    "kernelspec": {
      "name": "python3",
      "display_name": "Python 3"
    },
    "language_info": {
      "name": "python"
    }
  },
  "cells": [
    {
      "cell_type": "markdown",
      "metadata": {
        "id": "view-in-github",
        "colab_type": "text"
      },
      "source": [
        "<a href=\"https://colab.research.google.com/github/rodr1ggoql17/Optimizacion_heuristica/blob/main/E4_OPTI.ipynb\" target=\"_parent\"><img src=\"https://colab.research.google.com/assets/colab-badge.svg\" alt=\"Open In Colab\"/></a>"
      ]
    },
    {
      "cell_type": "code",
      "execution_count": 1,
      "metadata": {
        "colab": {
          "base_uri": "https://localhost:8080/"
        },
        "id": "JsiSdwhNSMrW",
        "outputId": "431a9e97-92bf-4cd6-d9fb-fe2cabd85477"
      },
      "outputs": [
        {
          "output_type": "stream",
          "name": "stdout",
          "text": [
            "Looking in indexes: https://pypi.org/simple, https://us-python.pkg.dev/colab-wheels/public/simple/\n",
            "Requirement already satisfied: pulp in /usr/local/lib/python3.7/dist-packages (2.6.0)\n"
          ]
        }
      ],
      "source": [
        "!pip install pulp"
      ]
    },
    {
      "cell_type": "code",
      "source": [
        "from pulp import *"
      ],
      "metadata": {
        "id": "-r4iI6J-SVoj"
      },
      "execution_count": 2,
      "outputs": []
    },
    {
      "cell_type": "code",
      "source": [
        "# definir problema\n",
        "problem = LpProblem(name='Minimizar costos de transporte',sense=LpMinimize)"
      ],
      "metadata": {
        "colab": {
          "base_uri": "https://localhost:8080/"
        },
        "id": "Y0ODXI_8Sb-h",
        "outputId": "ec8ba4b5-6c26-4432-81c7-048e66b9931f"
      },
      "execution_count": 3,
      "outputs": [
        {
          "output_type": "stream",
          "name": "stderr",
          "text": [
            "/usr/local/lib/python3.7/dist-packages/pulp/pulp.py:1352: UserWarning: Spaces are not permitted in the name. Converted to '_'\n",
            "  warnings.warn(\"Spaces are not permitted in the name. Converted to '_'\")\n"
          ]
        }
      ]
    },
    {
      "cell_type": "code",
      "source": [
        "# definir variables\n",
        "xa1 = LpVariable(name='Producto A hacia CD1',lowBound=0)\n",
        "xa2 = LpVariable(name='Producto A hacia CD2',lowBound=0)\n",
        "xa3 = LpVariable(name='Producto A hacia CD3',lowBound=0)\n",
        "xb1 = LpVariable(name='Producto B hacia CD1',lowBound=0)\n",
        "xb2 = LpVariable(name='Producto B hacia CD2',lowBound=0)\n",
        "xb3 = LpVariable(name='Producto B hacia CD3',lowBound=0)"
      ],
      "metadata": {
        "id": "bENo8lbuSlk0"
      },
      "execution_count": 4,
      "outputs": []
    },
    {
      "cell_type": "code",
      "source": [
        "# funcion objetivo\n",
        "problem += 21*xa1 + 25*xa2 + 15*xa3 + 28*xb1 + 13*xb2 + 19*xb3,'Funcion objetivo'"
      ],
      "metadata": {
        "id": "vH-uJ8JhUE9N"
      },
      "execution_count": 5,
      "outputs": []
    },
    {
      "cell_type": "code",
      "source": [
        "#restricciones\n",
        "problem += xa1 + xb1 >= 200,'Limite CD1'\n",
        "problem += xa2 + xb2 >= 200,'Limite CD2'\n",
        "problem += xa3 + xb3 >= 250,'Limite CD3'\n",
        "\n",
        "problem += xa1 + xa2 + xa3 <= 250,'Limite Producto A'\n",
        "problem += xb1 + xb2 + xb3 <= 450,'Limite Producto B'\n"
      ],
      "metadata": {
        "id": "YN61RXpCUdD1"
      },
      "execution_count": 6,
      "outputs": []
    },
    {
      "cell_type": "code",
      "source": [
        "# resolver el problema\n",
        "problem.solve()"
      ],
      "metadata": {
        "colab": {
          "base_uri": "https://localhost:8080/"
        },
        "id": "Ugknhbe2WZXj",
        "outputId": "df98da81-5778-4048-cfa7-76118ccb1908"
      },
      "execution_count": 7,
      "outputs": [
        {
          "output_type": "execute_result",
          "data": {
            "text/plain": [
              "1"
            ]
          },
          "metadata": {},
          "execution_count": 7
        }
      ]
    },
    {
      "cell_type": "code",
      "source": [
        "# imprimir resultados\n",
        "for i in problem.variables():\n",
        "  print(i.name,':',i.varValue)"
      ],
      "metadata": {
        "colab": {
          "base_uri": "https://localhost:8080/"
        },
        "id": "zeI_YTNzWnsL",
        "outputId": "0750e2dc-b9d2-42cc-a526-041240130dca"
      },
      "execution_count": 8,
      "outputs": [
        {
          "output_type": "stream",
          "name": "stdout",
          "text": [
            "Producto_A_hacia_CD1 : 200.0\n",
            "Producto_A_hacia_CD2 : 0.0\n",
            "Producto_A_hacia_CD3 : 50.0\n",
            "Producto_B_hacia_CD1 : 0.0\n",
            "Producto_B_hacia_CD2 : 200.0\n",
            "Producto_B_hacia_CD3 : 200.0\n"
          ]
        }
      ]
    },
    {
      "cell_type": "code",
      "source": [
        "# imprimir FO\n",
        "print(value(problem.objective))\n",
        "problem.objective"
      ],
      "metadata": {
        "colab": {
          "base_uri": "https://localhost:8080/"
        },
        "id": "02Ii2_JgXCkT",
        "outputId": "473ee6ae-ce18-4374-d490-e9d83efa0243"
      },
      "execution_count": 12,
      "outputs": [
        {
          "output_type": "stream",
          "name": "stdout",
          "text": [
            "11350.0\n"
          ]
        },
        {
          "output_type": "execute_result",
          "data": {
            "text/plain": [
              "21*Producto_A_hacia_CD1 + 25*Producto_A_hacia_CD2 + 15*Producto_A_hacia_CD3 + 28*Producto_B_hacia_CD1 + 13*Producto_B_hacia_CD2 + 19*Producto_B_hacia_CD3 + 0"
            ]
          },
          "metadata": {},
          "execution_count": 12
        }
      ]
    }
  ]
}