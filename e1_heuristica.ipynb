{
  "nbformat": 4,
  "nbformat_minor": 0,
  "metadata": {
    "colab": {
      "provenance": []
    },
    "kernelspec": {
      "name": "python3",
      "display_name": "Python 3"
    },
    "language_info": {
      "name": "python"
    }
  },
  "cells": [
    {
      "cell_type": "code",
      "execution_count": null,
      "metadata": {
        "colab": {
          "base_uri": "https://localhost:8080/"
        },
        "id": "7fImQi-Dsl_8",
        "outputId": "7935966a-9910-4675-fcf8-3fc231d6acc7"
      },
      "outputs": [
        {
          "output_type": "stream",
          "name": "stdout",
          "text": [
            "Looking in indexes: https://pypi.org/simple, https://us-python.pkg.dev/colab-wheels/public/simple/\n",
            "Requirement already satisfied: pulp in /usr/local/lib/python3.7/dist-packages (2.6.0)\n"
          ]
        }
      ],
      "source": [
        "!pip install pulp"
      ]
    },
    {
      "cell_type": "code",
      "source": [
        "from pulp import *"
      ],
      "metadata": {
        "id": "D0d7478Lxd2_"
      },
      "execution_count": null,
      "outputs": []
    },
    {
      "cell_type": "code",
      "source": [
        "# creamos el modelo\n",
        "e1 = LpProblem(name='Ejemplo1',sense = LpMaximize)"
      ],
      "metadata": {
        "id": "FuMIJZchstXx"
      },
      "execution_count": null,
      "outputs": []
    },
    {
      "cell_type": "code",
      "source": [
        "# declaramos variables\n",
        "x1 = LpVariable(name=\"x1\",lowBound=0)\n",
        "x2 = LpVariable(name=\"x2\",lowBound=0)\n",
        "x3 = LpVariable(name=\"x3\",lowBound=0)\n",
        "x4 = LpVariable(name=\"x4\",lowBound=0)\n",
        "x5 = LpVariable(name=\"x5\",lowBound=0)"
      ],
      "metadata": {
        "id": "UbElmjGDtXCx"
      },
      "execution_count": null,
      "outputs": []
    },
    {
      "cell_type": "code",
      "source": [
        "# declarar funcion objetivo\n",
        "e1 += (550*x1 + 600*x2 + 350*x3 + 400*x4 + 200*x5),\"Maximar_utilidades\""
      ],
      "metadata": {
        "id": "jOLtNQBXtkiQ"
      },
      "execution_count": null,
      "outputs": []
    },
    {
      "cell_type": "code",
      "source": [
        "# restricciones\n",
        "e1 += (12*x1 + 20*x2 + 25*x4 + 15*x5) <= 288\n",
        "e1 += (10*x1 + 8*x2 + 16*x3) <= 192\n",
        "e1 += (20*x1 + 20*x2 + 20*x3 + 20*x4 + 20*x5) <= 384"
      ],
      "metadata": {
        "id": "UUwDug1FuOuS"
      },
      "execution_count": null,
      "outputs": []
    },
    {
      "cell_type": "code",
      "source": [
        "# resolver problema\n",
        "e1.solve()"
      ],
      "metadata": {
        "colab": {
          "base_uri": "https://localhost:8080/"
        },
        "id": "B2_eZaRzxSuZ",
        "outputId": "f6c8f3a5-212a-4a9e-f604-8e41ebf219f5"
      },
      "execution_count": null,
      "outputs": [
        {
          "output_type": "execute_result",
          "data": {
            "text/plain": [
              "1"
            ]
          },
          "metadata": {},
          "execution_count": 62
        }
      ]
    },
    {
      "cell_type": "code",
      "source": [
        "# imprimir resultados\n",
        "for i in e1.variables():\n",
        "  print(i.name,\":\",i.varValue)"
      ],
      "metadata": {
        "colab": {
          "base_uri": "https://localhost:8080/"
        },
        "id": "4vTWjOOoyEFh",
        "outputId": "6e2934c3-9011-4e42-bf67-92fb4afbcd3a"
      },
      "execution_count": null,
      "outputs": [
        {
          "output_type": "stream",
          "name": "stdout",
          "text": [
            "x1 : 12.0\n",
            "x2 : 7.2\n",
            "x3 : 0.0\n",
            "x4 : 0.0\n",
            "x5 : 0.0\n"
          ]
        }
      ]
    },
    {
      "cell_type": "code",
      "source": [
        "# funcion objetivo\n",
        "print('FO: ',value(e1.objective))"
      ],
      "metadata": {
        "colab": {
          "base_uri": "https://localhost:8080/"
        },
        "id": "L1dEVncI0znQ",
        "outputId": "85955532-5bc4-475d-fd69-ca8d85438d41"
      },
      "execution_count": null,
      "outputs": [
        {
          "output_type": "stream",
          "name": "stdout",
          "text": [
            "FO:  10920.0\n"
          ]
        }
      ]
    }
  ]
}