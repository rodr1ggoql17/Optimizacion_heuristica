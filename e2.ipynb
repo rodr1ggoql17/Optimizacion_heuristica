{
  "nbformat": 4,
  "nbformat_minor": 0,
  "metadata": {
    "colab": {
      "provenance": [],
      "authorship_tag": "ABX9TyOOVPwx9TOqqslBulH5QcxS",
      "include_colab_link": true
    },
    "kernelspec": {
      "name": "python3",
      "display_name": "Python 3"
    },
    "language_info": {
      "name": "python"
    }
  },
  "cells": [
    {
      "cell_type": "markdown",
      "metadata": {
        "id": "view-in-github",
        "colab_type": "text"
      },
      "source": [
        "<a href=\"https://colab.research.google.com/github/rodr1ggoql17/Optimizacion_heuristica/blob/main/e2.ipynb\" target=\"_parent\"><img src=\"https://colab.research.google.com/assets/colab-badge.svg\" alt=\"Open In Colab\"/></a>"
      ]
    },
    {
      "cell_type": "code",
      "execution_count": 1,
      "metadata": {
        "colab": {
          "base_uri": "https://localhost:8080/"
        },
        "id": "K49odbYZ8dJe",
        "outputId": "f5f444c2-6ccb-42be-b31e-1727bb4a860e"
      },
      "outputs": [
        {
          "output_type": "stream",
          "name": "stdout",
          "text": [
            "Looking in indexes: https://pypi.org/simple, https://us-python.pkg.dev/colab-wheels/public/simple/\n",
            "Collecting pulp\n",
            "  Downloading PuLP-2.6.0-py3-none-any.whl (14.2 MB)\n",
            "\u001b[K     |████████████████████████████████| 14.2 MB 4.4 MB/s \n",
            "\u001b[?25hInstalling collected packages: pulp\n",
            "Successfully installed pulp-2.6.0\n"
          ]
        }
      ],
      "source": [
        "!pip install pulp"
      ]
    },
    {
      "cell_type": "code",
      "source": [
        "from pulp import *"
      ],
      "metadata": {
        "id": "k2UcV-xM8hMQ"
      },
      "execution_count": 11,
      "outputs": []
    },
    {
      "cell_type": "code",
      "source": [
        "#declarar el problema\n",
        "problema = LpProblem(name='Maximizar ventas',sense=LpMaximize)"
      ],
      "metadata": {
        "colab": {
          "base_uri": "https://localhost:8080/"
        },
        "id": "yVZSdruD8lKl",
        "outputId": "3494d999-16b7-47eb-f243-c211d482f156"
      },
      "execution_count": 12,
      "outputs": [
        {
          "output_type": "stream",
          "name": "stderr",
          "text": [
            "/usr/local/lib/python3.7/dist-packages/pulp/pulp.py:1352: UserWarning: Spaces are not permitted in the name. Converted to '_'\n",
            "  warnings.warn(\"Spaces are not permitted in the name. Converted to '_'\")\n"
          ]
        }
      ]
    },
    {
      "cell_type": "code",
      "source": [
        "# declarar variables\n",
        "x1 = LpVariable(name='Producto A',lowBound=0)\n",
        "x2 = LpVariable(name='Producto B',lowBound=0)"
      ],
      "metadata": {
        "id": "rpon8dUV9F2m"
      },
      "execution_count": 13,
      "outputs": []
    },
    {
      "cell_type": "code",
      "source": [
        "#funcion objetivo\n",
        "problema += 10*x1 + 12*x2,'Funcion_Objetivo'"
      ],
      "metadata": {
        "id": "ZtC5O0KA-GoG"
      },
      "execution_count": 14,
      "outputs": []
    },
    {
      "cell_type": "code",
      "source": [
        "#restricciones\n",
        "problema += 2*x1 + 1.5*x2 <= 40,'Limite Horas'\n",
        "problema += x1 + 2*x2 <= 50,'Limite tarros'"
      ],
      "metadata": {
        "id": "3Td7e8nT9T3G"
      },
      "execution_count": 15,
      "outputs": []
    },
    {
      "cell_type": "code",
      "source": [
        "#resolver problema\n",
        "problema.solve()"
      ],
      "metadata": {
        "colab": {
          "base_uri": "https://localhost:8080/"
        },
        "id": "UkJn4t5E9oDm",
        "outputId": "a0781298-a3a0-4cb0-c1b5-e689c7f7e2b4"
      },
      "execution_count": 16,
      "outputs": [
        {
          "output_type": "execute_result",
          "data": {
            "text/plain": [
              "1"
            ]
          },
          "metadata": {},
          "execution_count": 16
        }
      ]
    },
    {
      "cell_type": "code",
      "source": [
        "#imprimir resultados\n",
        "for i in problema.variables():\n",
        "  print(i.name,\":\",i.varValue)"
      ],
      "metadata": {
        "colab": {
          "base_uri": "https://localhost:8080/"
        },
        "id": "LP9kna3O9sTd",
        "outputId": "1cb47593-d876-4a70-87cb-fe3483345a9c"
      },
      "execution_count": 17,
      "outputs": [
        {
          "output_type": "stream",
          "name": "stdout",
          "text": [
            "Producto_A : 2.0\n",
            "Producto_B : 24.0\n"
          ]
        }
      ]
    },
    {
      "cell_type": "code",
      "source": [
        "#imprimir objetivo\n",
        "print('FO: ',value(problema.objective))"
      ],
      "metadata": {
        "colab": {
          "base_uri": "https://localhost:8080/"
        },
        "id": "ivnM59AO-cfA",
        "outputId": "e044e1e1-f244-4e70-b206-17e0cc16a7ed"
      },
      "execution_count": 20,
      "outputs": [
        {
          "output_type": "stream",
          "name": "stdout",
          "text": [
            "FO:  308.0\n"
          ]
        }
      ]
    }
  ]
}