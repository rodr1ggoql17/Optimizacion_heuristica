{
  "nbformat": 4,
  "nbformat_minor": 0,
  "metadata": {
    "colab": {
      "provenance": [],
      "authorship_tag": "ABX9TyPY4UrNvWk9ffstI/NvbHj5",
      "include_colab_link": true
    },
    "kernelspec": {
      "name": "python3",
      "display_name": "Python 3"
    },
    "language_info": {
      "name": "python"
    }
  },
  "cells": [
    {
      "cell_type": "markdown",
      "metadata": {
        "id": "view-in-github",
        "colab_type": "text"
      },
      "source": [
        "<a href=\"https://colab.research.google.com/github/rodr1ggoql17/Optimizacion_heuristica/blob/main/EJEMPLO2_OH.ipynb\" target=\"_parent\"><img src=\"https://colab.research.google.com/assets/colab-badge.svg\" alt=\"Open In Colab\"/></a>"
      ]
    },
    {
      "cell_type": "code",
      "execution_count": 11,
      "metadata": {
        "colab": {
          "base_uri": "https://localhost:8080/"
        },
        "id": "VC-hVXsuBMYq",
        "outputId": "2287c718-bf05-46a6-f24c-ef1e8851419d"
      },
      "outputs": [
        {
          "output_type": "stream",
          "name": "stdout",
          "text": [
            "Looking in indexes: https://pypi.org/simple, https://us-python.pkg.dev/colab-wheels/public/simple/\n",
            "Requirement already satisfied: pulp in /usr/local/lib/python3.7/dist-packages (2.6.0)\n"
          ]
        }
      ],
      "source": [
        "!pip install pulp"
      ]
    },
    {
      "cell_type": "code",
      "source": [
        "from pulp import *"
      ],
      "metadata": {
        "id": "frM0SaGNBS8O"
      },
      "execution_count": 12,
      "outputs": []
    },
    {
      "cell_type": "code",
      "source": [
        "# definir problema\n",
        "problema = LpProblem(name='Maximizar Utilidades',sense=LpMaximize)"
      ],
      "metadata": {
        "colab": {
          "base_uri": "https://localhost:8080/"
        },
        "id": "cfNef585BW9m",
        "outputId": "73558de6-ff8e-4fd9-a817-25958d2c0e82"
      },
      "execution_count": 26,
      "outputs": [
        {
          "output_type": "stream",
          "name": "stderr",
          "text": [
            "/usr/local/lib/python3.7/dist-packages/pulp/pulp.py:1352: UserWarning: Spaces are not permitted in the name. Converted to '_'\n",
            "  warnings.warn(\"Spaces are not permitted in the name. Converted to '_'\")\n"
          ]
        }
      ]
    },
    {
      "cell_type": "code",
      "source": [
        "#definir variables\n",
        "x = LpVariable(name='Mesas',lowBound=0)\n",
        "y = LpVariable(name='Sillas',lowBound=0)"
      ],
      "metadata": {
        "id": "TYHZxyvxBwN1"
      },
      "execution_count": 27,
      "outputs": []
    },
    {
      "cell_type": "code",
      "source": [
        "#funcion objetivo\n",
        "problema += (60-20)*x + (50-18)*y,'Funcion Objetivo'"
      ],
      "metadata": {
        "id": "2r44UTQrCCBF"
      },
      "execution_count": 28,
      "outputs": []
    },
    {
      "cell_type": "code",
      "source": [
        "#restricciones\n",
        "problema += 8*x + 6*y <= 60, \"Piezas Pequenas\"\n",
        "problema += 2*x + 1*y <= 40, \"Piezas Grandes\""
      ],
      "metadata": {
        "id": "JdJDF4MRCPPt"
      },
      "execution_count": 29,
      "outputs": []
    },
    {
      "cell_type": "code",
      "source": [
        "#resolver el problema\n",
        "problema.solve()"
      ],
      "metadata": {
        "colab": {
          "base_uri": "https://localhost:8080/"
        },
        "id": "Vg_T6lEOCjds",
        "outputId": "487e0b48-592e-4615-9b16-5058f64fb679"
      },
      "execution_count": 30,
      "outputs": [
        {
          "output_type": "execute_result",
          "data": {
            "text/plain": [
              "1"
            ]
          },
          "metadata": {},
          "execution_count": 30
        }
      ]
    },
    {
      "cell_type": "code",
      "source": [
        "# imprimir resultados\n",
        "for i in problema.variables():\n",
        "  print(i.name,\":\",i.varValue)"
      ],
      "metadata": {
        "colab": {
          "base_uri": "https://localhost:8080/"
        },
        "id": "AbbhKU7iDQJu",
        "outputId": "880fa55c-d427-44c6-ea96-f32b5f7f5b39"
      },
      "execution_count": 36,
      "outputs": [
        {
          "output_type": "stream",
          "name": "stdout",
          "text": [
            "Mesas : 0.0\n",
            "Sillas : 10.0\n"
          ]
        }
      ]
    },
    {
      "cell_type": "code",
      "source": [
        "print('Utilidad maxima: ',value(problema.objective))"
      ],
      "metadata": {
        "colab": {
          "base_uri": "https://localhost:8080/"
        },
        "id": "Ipi3Bdk3DnX8",
        "outputId": "4c436ece-f69d-4f1c-8ae3-55b6b6fc1ad6"
      },
      "execution_count": 37,
      "outputs": [
        {
          "output_type": "stream",
          "name": "stdout",
          "text": [
            "Utilidad maxima:  320.0\n"
          ]
        }
      ]
    }
  ]
}